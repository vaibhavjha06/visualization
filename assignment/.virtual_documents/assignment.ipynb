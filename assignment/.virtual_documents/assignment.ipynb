





#1
import pandas as pd
import numpy as np
import matplotlib.pyplot as plt
import seaborn as sns

college = pd.read_csv("./data/college_completion.csv") # Loaded dataset


#2
college.head(10)

college.shape # The dataset contains 3,798 observations and 63 different variables
# print(college['control'].value_counts())
# print(college['level'].value_counts())


#3
controlxlevel = pd.crosstab(college['control'], college['level']) # cross-tabluation of control by level
print(controlxlevel)
# It seems most 2-year universities are public. 4-year universities, on the other hand, are largely private, not-for-profit. There are minimal 2-year private universities not-for-profit. If private, they tend to be for-profit.


#4
fig, axes = plt.subplots(1, 2, figsize=(12, 6))
sns.histplot(college['grad_100_value'], figure=plt.figure()) # histogram
sns.kdeplot(college['grad_100_value'], figure=plt.figure()) # kernel density plot
sns.boxplot(college['grad_100_value'], ax=axes[0]) # boxplot - grad_100_value
sns.boxplot(college['aid_value'], ax=axes[1]) # boxplot - aid value

college['grad_100_value'].describe()
# The grad_100_value variable has 3,467 instances. It has a mean of 28.36%, with a corresponding median of 22.5. The measure is heavily skewed to the right.


#5
college['group_combined'] = college['level'] + '_' + college['control'] # got this idea from ChatGPT
sns.kdeplot(data=college, x='grad_100_value', hue='group_combined', figure=plt.figure())
# It seems private not-for-profit 4-year universities have the best graduation rates. They have the most area under the density graph on the right side of the graph (indicating higher graduation rates).
print(college['grad_100_value'].groupby(college['group_combined']).describe())
# This statistical description shows that 4 year private not-for-profit universities have the second-highest means after 2-year private not-for-profits.
# There are minimums of 0 for all groupings, which is weird. I doubt that some universities (if any) have as low of a graduation rate as 0%.

#6
# I did this for question 5 (a slight variation but same idea)


#7
sns.kdeplot(college, x='aid_value', figure=plt.figure())
sns.kdeplot(college, x='aid_value', hue='group_combined', figure=plt.figure())
print(college['aid_value'].groupby(college['group_combined']).describe())

# It seems 4-year private not-for-profit universities are most generous in giving aid. They have the highest mean of aid_value, and the next closest isn't 1/2 of what they give. 
# The spread is significant though, showing large variation based on the university in question.


#8
sns.scatterplot(x=college['aid_value'], y=college['grad_100_value'], figure=plt.figure())

# There appears to be a weak association between aid_value and grad_100_value. A loose positive correlation is present, although there are many schools with low aid_value and high grad_100_value.
sns.scatterplot(x=college['aid_value'], y=college['grad_100_value'], hue=college['group_combined'], figure=plt.figure())

# The 4-year private not-for-profits stand out in this graph. There is a much stronger correlation between aid_value and grad_100_value than the generic plot from earlier.
# For 4-year private not-for-profit universities, the more aid_value increases, the higher the grad_100_value increases.









