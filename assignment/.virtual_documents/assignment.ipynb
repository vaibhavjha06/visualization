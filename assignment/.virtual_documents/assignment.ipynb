





#1
import pandas as pd
import numpy as np
import matplotlib.pyplot as plt
import seaborn as sns

college = pd.read_csv("./data/college_completion.csv") # Loaded dataset


#2
college.head(10)

college.shape # The dataset contains 3,798 observations and 63 different variables
# print(college['control'].value_counts())
# print(college['level'].value_counts())


#3
controlxlevel = pd.crosstab(college['control'], college['level']) # cross-tabluation of control by level
print(controlxlevel)
# It seems most 2-year universities are public. 4-year universities, on the other hand, are largely private, not-for-profit. There are minimal 2-year private universities not-for-profit. If private, they tend to be for-profit.


#4
fig, axes = plt.subplots(1, 2, figsize=(12, 6))
sns.histplot(college['grad_100_value'], figure=plt.figure()) # histogram
sns.kdeplot(college['grad_100_value'], figure=plt.figure()) # kernel density plot
sns.boxplot(college['grad_100_value'], ax=axes[0]) # boxplot - grad_100_value
sns.boxplot(college['aid_value'], ax=axes[1]) # boxplot - aid value

college['grad_100_value'].describe()
# The grad_100_value variable has 3,467 instances. It has a mean of 28.36%, with a corresponding median of 22.5. The measure is heavily skewed to the right.


#5
college['group_combined'] = college['level'] + '_' + college['control'] # got this idea from ChatGPT
sns.kdeplot(data=college, x='grad_100_value', hue='group_combined', figure=plt.figure())
# It seems private not-for-profit 4-year universities have the best graduation rates. They have the most area under the density graph on the right side of the graph (indicating higher graduation rates).
print(college['grad_100_value'].groupby(college['group_combined']).describe())
# This statistical description shows that 4 year private not-for-profit universities have the second-highest means after 2-year private not-for-profits.
# There are minimums of 0 for all groupings, which is weird. I doubt that some universities (if any) have as low of a graduation rate as 0%.

#6
# I did this for question 5 (a slight variation but same idea)


#7
sns.kdeplot(college, x='aid_value', figure=plt.figure())
sns.kdeplot(college, x='aid_value', hue='group_combined', figure=plt.figure())
print(college['aid_value'].groupby(college['group_combined']).describe())

# It seems 4-year private not-for-profit universities are most generous in giving aid. They have the highest mean of aid_value, and the next closest isn't 1/2 of what they give. 
# The spread is significant though, showing large variation based on the university in question.


#8
sns.scatterplot(x=college['aid_value'], y=college['grad_100_value'], figure=plt.figure())

# There appears to be a weak association between aid_value and grad_100_value. A loose positive correlation is present, although there are many schools with low aid_value and high grad_100_value.
sns.scatterplot(x=college['aid_value'], y=college['grad_100_value'], hue=college['group_combined'], figure=plt.figure())

# The 4-year private not-for-profits stand out in this graph. There is a much stronger correlation between aid_value and grad_100_value than the generic plot from earlier.
# For 4-year private not-for-profit universities, the more aid_value increases, the higher the grad_100_value increases.














medicaid = pd.read_csv('/Users/vaibhavjha/visualization/data/Medicaid Spending by Drug/2022/DSD_MCD_RY24_P06_V20_D22_BGM.csv')
medicaid.head(15)
medicaid = medicaid[medicaid['Mftr_Name'] != 'Overall']
medicaid.head(15) # Data wrangling





medicaid['Gnrc_Name'].value_counts() # Shows that there are 70 different instances of Metformin HCl, each probably being from a different brand
medicaid['Mftr_Name'].value_counts() # Shows prevalence of certain manufacturers involvement with the Medicaid program, with Teva USA leading the way


medicaid['Tot_Spndng_2022'].isnull().sum() # 0 missing values
medicaid['Tot_Spndng_2022'].unique
medicaid['Avg_Spnd_Per_Clm_2022'].isnull().sum() # 0 missing values
medicaid['Avg_Spnd_Per_Clm_2022'].unique


import pandas as pd
import numpy as np
import seaborn as sns
import matplotlib.pyplot as plt


#4
sns.boxplot(data=medicaid, x=medicaid['Tot_Spndng_2022'], showfliers = False) # removed outliers from plot
sns.boxplot(data=medicaid, x=medicaid['Avg_Spnd_Per_Clm_2022'], showfliers = False) # removed outliers from plot

# There are major outliers on the upper end of values that I had to exclude in order to produce a readable graph.

sns.barplot(x=medicaid['Gnrc_Name'], y=medicaid['Tot_Spndng_2022'])
# There are too many categories for a readable bar plot to be produced


#5
value_counts = medicaid['Mftr_Name'].value_counts()
prevalent_values = value_counts[value_counts >= 100].index

# Filter the DataFrame based on the prevalent values
prevalent_manufacturers = medicaid[medicaid['Mftr_Name'].isin(prevalent_values)]
prevalent_manufacturers.head(15)
sns.histplot(prevalent_manufacturers['Mftr_Name'])
plt.xticks(rotation=90)
plt.tight_layout()
plt.show()

# This is a histogram of manufacturers that are present at least 100 times in the data set. I had to filter like this to be able to produce a concise enough histogram that makes it readable.
# This has no quantifiable meaning in terms of spread though bc it is a categorical variable


lower_bound = 100000
upper_bound = 1000000
# Filtering total spending in the year
filtered_df = medicaid[(medicaid['Tot_Spndng_2022'] >= lower_bound) & (medicaid['Tot_Spndng_2022'] <= upper_bound)]

sns.histplot(filtered_df['Tot_Spndng_2022']) # A histogram of total spending in drugs in 2022. Had to keep within a range to produce readable plot.
# A tail because plot is skewed to the right

filtered_df['Tot_Spndng_2022_arcsinh'] = np.arcsinh(filtered_df['Tot_Spndng_2022'])
filtered_df['Tot_Spndng_2022_log'] = np.log(filtered_df['Tot_Spndng_2022'])
sns.histplot(filtered_df['Tot_Spndng_2022_arcsinh']) # This arcsin transformation somewhat transforms the output of the histogram, but a Normal distribution is not quite reached


#6
sns.scatterplot(x=prevalent_manufacturers['Mftr_Name'], y=filtered_df['Tot_Spndng_2022'])
# There is no relationship between the manufacturer names and their spending in 2022. They all span low and high values based on the drug in question.
# Keep in mind, this is filtered for manufacturers prevalent more than 100 instances and for total spending values between 100k and $1,000,000



#7
print(filtered_df['Tot_Spndng_2022'].groupby(filtered_df['Mftr_Name']).describe())
# I am producing a statistical description of total spending in 2022 by manufacturing company.
# This is filtered for companies with total spending between $100k and $1,000,000.
# I see numerous companies, across the world, with major investments in Medicaid drugs.
# Aadi Bioscience only is only involved with one drug, but there spending is $225,548.
# I see that just one drug in the market can mean hundreds of thousands of dollars in investment.
