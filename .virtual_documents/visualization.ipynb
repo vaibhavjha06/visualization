








import numpy as np  # Import NumPy
import pandas as pd  # Import Pandas
import seaborn as sns # Import Seaborn

df = pd.read_csv('./data/pretrial_data.csv') # Load the pretrial data

# Transform some badly scaled variables:
df['bond_arcsinh'] = np.arcsinh(df['bond'])
df['sentence_arcsinh'] = np.arcsinh(df['sentence'])
df['prior_F_arcsinh'] = np.arcsinh(df['prior_F'])
df['prior_M_arcsinh'] = np.arcsinh(df['prior_M'])

df.columns.tolist() # A list of the available variables





var = 'gini'
sns.histplot(df[var]) # A histogram
#sns.histplot(data=df, x=var) # Same thing


var = 'gini'
sns.kdeplot(df[var]) # A kernel density plot
#sns.kdeplot(data=df, x=var) # Same thing


var = 'gini'
#sns.boxplot(df[var]) # A boxplot
sns.boxplot(data=df, x=var) # Same thing, but horizontal


var1 = 'sentence_arcsinh'
var2 = 'bond_arcsinh'
sns.scatterplot(x=df[var1],y=df[var2]) # A scatterplot
#sns.scatterplot(data=df, x=var1, y=var2) # Same thing





var1 = 'bond_arcsinh' # A numeric variable
var2 = 'sentence_arcsinh' # Another numeric
cat1 = 'case_type' # A categorical variable
cat2 = 'is_poor' # A categorical variable

sns.scatterplot(data=df, x=var1, y=var2) # Our initial plot


sns.scatterplot(data=df, x=var1, y=var2, hue=cat1) # Coloring dots by case_type


this_plot = sns.scatterplot(data=df, x=var1, y=var2, hue=cat1, style=cat2) # Two kinds of grouping
sns.move_legend(this_plot, "upper right", bbox_to_anchor=(1.3, 1)) # Moves the Legend





var1 = 'prior_M_arcsinh'
var2 = 'prior_F_arcsinh'
cat1 = 'case_type'
cat2 = 'is_poor'

sns.histplot(data=df, x=var1) # Our initial plot


sns.histplot(data=df, x=var1, hue = cat1) # By case type


sns.histplot(data=df, x=var1, hue = cat1, stat='proportion') # Proportion versus count


sns.histplot(data=df, x=var1, hue = cat2) # By indigency status


var1 = 'prior_M_arcsinh'
var2 = 'prior_F_arcsinh'
cat1 = 'case_type'
cat2 = 'is_poor'

sns.kdeplot(data=df, x=var1) # Our initial plot


sns.kdeplot(data=df, x=var1, hue=cat1) # Grouped by case-type


sns.kdeplot(data=df, x=var1, hue=cat2) # Grouped by indigency status


sns.kdeplot(data=df,x='age') # Using a log scale


df['age_log'] = np.log(df['age'])
sns.kdeplot(data=df,x='age_log') # Using a log transformation


sns.kdeplot(data=df,x='age',log_scale=True) # Transforming the axis





category = 'case_type'
values = 'gini'
sns.violinplot(x=category,y=values,data=df)


category = 'case_type'
values = 'bond_arcsinh'
sns.violinplot(x=category,y=values,data=df)





var2 = 'gini'
var1 = 'bond_arcsinh'
sns.jointplot(x=var1,y=var2,data=df)


sns.jointplot(x=var1,y=var2,data=df,hue='case_type') # Check out that plot!





var1 = 'prior_M'
var2 = 'prior_F'
cat1 = 'case_type'
cat2 = 'is_poor'

sns.scatterplot(data=df, x=var1, y=var2,hue=cat1)
sns.rugplot(data=df, x=var1, y=var2, height=.02)


sns.jointplot(x='gini',y='age',data=df,kind='hex') # More evenly distributed


sns.jointplot(x='prior_M',y='prior_F',data=df,kind='hex') # Check out that plot!


sns.jointplot(y='sentence_arcsinh',x='bond_arcsinh',data=df,kind='hex') # Hexbin Graph





sns.kdeplot(data=df,x='age')
sns.rugplot(data=df, x="age")





tdf = pd.read_csv('./data/time_use.csv')
print(tdf.shape)
print(tdf.columns)

tdf = tdf.rename(columns = {'Year':'year',
                            'Time spent alone, by age of respondent (United States)':'alone',
       'Time spent with friends, by age of respondent (United States)':'friends',
       'Time spent with children, by age of respondent (United States)':'children',
       'Time spent with with parents, siblings and other family, by age of respondent (United States)':'family',
       'Time spent with partner, by age of respondent (United States)':'partner',
       'Time spent with coworkers, by age of respondent (United States)':'coworkers'})

# Converts time levels to proportions:
props = tdf.iloc[:,1:7]
tdf.iloc[:,1:7] = props.apply(lambda x: x/x.sum(), axis=1) # Convert minutes to proportions
tdf.head()







hdf = tdf.melt(id_vars='year') # Melt the data


hdf.head()


sns.lineplot(data=hdf,x='year',y='value',hue='variable').set(title='Time Use',xlabel=
                                                                   'Year',ylabel='Proportion') # Plotting by variable
# This is the most depressing graph I've ever made.
